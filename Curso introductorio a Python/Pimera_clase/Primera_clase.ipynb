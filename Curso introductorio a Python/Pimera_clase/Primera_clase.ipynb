{
 "cells": [
  {
   "cell_type": "markdown",
   "metadata": {},
   "source": [
    "<h1><center>\n",
    "Curso introductorio a Python\n",
    "</center></h1>\n",
    "\n",
    "<img src=\"Imagenes/babel.jpeg\" width=20%>\n",
    "\n",
    "\n"
   ]
  },
  {
   "cell_type": "code",
   "execution_count": 1,
   "metadata": {},
   "outputs": [],
   "source": [
    "import this"
   ]
  },
  {
   "cell_type": "markdown",
   "metadata": {},
   "source": [
    "## Por que Python\n",
    "* La documentación es muy amplia.\n",
    "* Maneja una sintaxis muy sencila. \n",
    "* Es ampliamente usado en las ciencias y la ingenieria. "
   ]
  },
  {
   "cell_type": "code",
   "execution_count": 2,
   "metadata": {},
   "outputs": [
    {
     "name": "stdout",
     "output_type": "stream",
     "text": [
      "Hola mundo\n"
     ]
    }
   ],
   "source": [
    "print(\"Hola mundo\")"
   ]
  },
  {
   "cell_type": "markdown",
   "metadata": {},
   "source": [
    "## Que es la programación\n",
    "**Dar instrucciones al computador de forma ordenada**"
   ]
  },
  {
   "cell_type": "code",
   "execution_count": null,
   "metadata": {
    "scrolled": false
   },
   "outputs": [],
   "source": []
  },
  {
   "cell_type": "markdown",
   "metadata": {},
   "source": [
    "### Operadores básicos\n",
    "Indican la operación que la maquina debe realizar.\n",
    "* Suma  --> **+**\n",
    "* Resta --> **-**\n",
    "* Multiplicación --> *****\n",
    "* División --> **/**\n",
    "* División de entero --> **//**\n",
    "* Resto --> **%**> residuo de la división \n",
    "* Potencias --> **\n",
    "* Mayor, menor, igual, mayor o igual, menor o igual ---> **>**, **<**, **==**, **>=**, **<=**\n"
   ]
  },
  {
   "cell_type": "code",
   "execution_count": 3,
   "metadata": {},
   "outputs": [
    {
     "name": "stdout",
     "output_type": "stream",
     "text": [
      "La suma entre 3 y 5 es 8\n",
      "La resta entre 3 y 5 es -2\n",
      "La multiplicación entre 3 y 5 es 15\n",
      "La división entre 3 y 5 es 0.6\n"
     ]
    }
   ],
   "source": [
    "a = 3 # Define una variable\n",
    "b = 5 # Define otra variable\n",
    "\n",
    "#Suma\n",
    "print (\"La suma entre\", a, \"y\", b, \"es\" , a + b)\n",
    "\n",
    "#Resta\n",
    "print (\"La resta entre\", a, \"y\", b, \"es\" , a - b)\n",
    "\n",
    "#Multiplicación\n",
    "print (\"La multiplicación entre\", a, \"y\", b, \"es\" , a * b)\n",
    "\n",
    "#Divisición\n",
    "print (\"La división entre\", a, \"y\", b, \"es\" , a / b)\n",
    "\n",
    "# Pueden probar cambiando los valores de a y b, y hacer las demás operaciones"
   ]
  },
  {
   "cell_type": "markdown",
   "metadata": {},
   "source": [
    "### Orden de las operación\n",
    "* Párentesis\n",
    "* Potencias/Raices\n",
    "* Multiplicación/División\n",
    "* Adición/Sustracción"
   ]
  },
  {
   "cell_type": "code",
   "execution_count": null,
   "metadata": {},
   "outputs": [],
   "source": []
  },
  {
   "cell_type": "markdown",
   "metadata": {},
   "source": [
    "### Tipos de datos\n",
    "* Enteros (int)\n",
    "* Decimales (float)\n",
    "* Cadena de caracteres (str)\n",
    "* Boolean (bool) ----> True/False"
   ]
  },
  {
   "cell_type": "code",
   "execution_count": 4,
   "metadata": {},
   "outputs": [
    {
     "name": "stdout",
     "output_type": "stream",
     "text": [
      "3 es un entero <class 'int'>\n",
      "3.5 es un float <class 'float'>\n",
      "'3.5' es un str <class 'str'>\n",
      "'3.5' es un str <class 'str'>\n",
      " <<True>> es un Bool <class 'bool'>\n"
     ]
    }
   ],
   "source": [
    "type(True) #devuelve el tipo de un valor\n",
    "print(\"3 es un entero\", type(3))\n",
    "print(\"3.5 es un float\", type(3.5))\n",
    "print(\"'3.5' es un str\", type('3.5'))\n",
    "print(\"'3.5' es un str\", type('3.5'))\n",
    "print(\" <<True>> es un Bool\", type(True))"
   ]
  },
  {
   "cell_type": "markdown",
   "metadata": {},
   "source": [
    "### Variables y Expresiones\n",
    "* **Variables** ---> contenedores\n",
    "* **Expresiones** ---> Valores conectados por operadores\n",
    "\n",
    "##### caracteristica de las variables \n",
    "* Se pueden reasignar\n",
    "* Deben tener nombres significativos\n",
    "* No deben/pueden ser las *palabras reservadas*"
   ]
  },
  {
   "cell_type": "code",
   "execution_count": 5,
   "metadata": {},
   "outputs": [
    {
     "data": {
      "text/plain": [
       "'holaholahola mundo'"
      ]
     },
     "execution_count": 5,
     "metadata": {},
     "output_type": "execute_result"
    }
   ],
   "source": [
    "3 * 'hola' + ' mundo'  # concatenar cadenas de caracteres"
   ]
  },
  {
   "cell_type": "code",
   "execution_count": 6,
   "metadata": {},
   "outputs": [
    {
     "data": {
      "text/plain": [
       "28.2744"
      ]
     },
     "execution_count": 6,
     "metadata": {},
     "output_type": "execute_result"
    }
   ],
   "source": [
    "3.1416 * 3 ** 2"
   ]
  },
  {
   "cell_type": "code",
   "execution_count": 7,
   "metadata": {},
   "outputs": [
    {
     "name": "stdout",
     "output_type": "stream",
     "text": [
      "28.2744\n"
     ]
    }
   ],
   "source": [
    "# Area de un circulo\n",
    "pi = 3.1416\n",
    "radio = 3\n",
    "area = pi * radio ** 2\n",
    "print (area)"
   ]
  },
  {
   "cell_type": "code",
   "execution_count": 8,
   "metadata": {},
   "outputs": [
    {
     "name": "stdout",
     "output_type": "stream",
     "text": [
      "¿Cuál es tu nombre?miguel\n",
      "Hola  miguel\n"
     ]
    }
   ],
   "source": [
    "# Python nos saluda\n",
    "name = str(input('¿Cuál es tu nombre?'))\n",
    "print(\"Hola  \" + name) #concatenar"
   ]
  },
  {
   "cell_type": "markdown",
   "metadata": {},
   "source": [
    "# Funciones\n",
    "* Es una secuencia de comandos que realizan un computo.\n",
    "* Se define con la palabra reservada **def**\n",
    "* Se llaman por su nombre y devuelven un valor.\n",
    "* Reciben parametros."
   ]
  },
  {
   "cell_type": "code",
   "execution_count": 9,
   "metadata": {},
   "outputs": [
    {
     "data": {
      "text/plain": [
       "5"
      ]
     },
     "execution_count": 9,
     "metadata": {},
     "output_type": "execute_result"
    }
   ],
   "source": [
    "#Suma\n",
    "def suma (num_1, num_2):\n",
    "    resultado = num_1 + num_2\n",
    "    return resultado\n",
    "\n",
    "suma(1,4)"
   ]
  },
  {
   "cell_type": "markdown",
   "metadata": {},
   "source": [
    "#### Parametros en las funciones\n",
    "* Los nombres no pueden comenzar con digitos.\n",
    "* No pueden utilizar una palabra reservada.\n",
    "* Las variables deben tener diferentes nombres.\n",
    "* Los nombres de las funciones deben ser descriptivas de lo que hacen las funciones.\n"
   ]
  },
  {
   "cell_type": "code",
   "execution_count": 10,
   "metadata": {},
   "outputs": [
    {
     "name": "stdout",
     "output_type": "stream",
     "text": [
      "CALCULADORA DE DIVISAS\n",
      "Convierte pesos colombiamos a dolares\n",
      "Ingresa la cantidad para la conversión  10\n",
      "\n",
      "10.0 pesos equivalen a 40.0 dolares\n"
     ]
    }
   ],
   "source": [
    "\"\"\"Conversión de divisas\"\"\"\n",
    "\n",
    "def conversor (ammount):\n",
    "    conversion = 4.000\n",
    "    return conversion * ammount\n",
    "\n",
    "def CalculadoraDeDivisas():\n",
    "    print(\"CALCULADORA DE DIVISAS\")\n",
    "    print(\"Convierte pesos colombiamos a dolares\")\n",
    "    \n",
    "    ammount = float(input(\"Ingresa la cantidad para la conversión  \"))\n",
    "    \n",
    "    resultado = conversor(ammount)\n",
    "    \n",
    "    print('')\n",
    "    print (ammount, 'pesos equivalen a', resultado, 'dolares')\n",
    "\n",
    "CalculadoraDeDivisas()"
   ]
  },
  {
   "cell_type": "code",
   "execution_count": 12,
   "metadata": {},
   "outputs": [
    {
     "name": "stdout",
     "output_type": "stream",
     "text": [
      "CALCULADORA DE AREA\n",
      "Ingresa el radio del circulo:34\n",
      "\n",
      "con un radio 34.0 el area del circulo es: 3629.84\n"
     ]
    }
   ],
   "source": [
    "\"\"\"Geometria\"\"\"\n",
    "\n",
    "def areaCircle(radio):\n",
    "    pi = 3.14\n",
    "    area = pi*radio**2\n",
    "    return area\n",
    "\n",
    "def calculeArea():\n",
    "    print(\"CALCULADORA DE AREA\")\n",
    "    \n",
    "    radio = float(input(\"Ingresa el radio del circulo:\"))\n",
    "    \n",
    "    resultado = areaCircle(radio)\n",
    "    \n",
    "    print('')\n",
    "    print ('con un radio',radio, 'el area del circulo es:',resultado)\n",
    "    \n",
    "calculeArea()"
   ]
  },
  {
   "cell_type": "code",
   "execution_count": null,
   "metadata": {},
   "outputs": [],
   "source": []
  },
  {
   "cell_type": "code",
   "execution_count": null,
   "metadata": {},
   "outputs": [],
   "source": []
  }
 ],
 "metadata": {
  "kernelspec": {
   "display_name": "Python 3",
   "language": "python",
   "name": "python3"
  },
  "language_info": {
   "codemirror_mode": {
    "name": "ipython",
    "version": 3
   },
   "file_extension": ".py",
   "mimetype": "text/x-python",
   "name": "python",
   "nbconvert_exporter": "python",
   "pygments_lexer": "ipython3",
   "version": "3.7.3"
  }
 },
 "nbformat": 4,
 "nbformat_minor": 2
}
