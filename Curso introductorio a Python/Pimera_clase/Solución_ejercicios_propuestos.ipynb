{
 "cells": [
  {
   "cell_type": "markdown",
   "metadata": {},
   "source": [
    "# Ejercicio primera clase\n",
    "Uso de funciones, vaeiables y operadores"
   ]
  },
  {
   "cell_type": "markdown",
   "metadata": {},
   "source": [
    "### 1. \n",
    "Escriba un programa que permita hacer conversión de unidades de distancia, donde puede indicar que unidad tiene el dato de entrada y a que unidad quiero que lo convierta. (minimo 3 posibilidades)."
   ]
  },
  {
   "cell_type": "code",
   "execution_count": 1,
   "metadata": {},
   "outputs": [],
   "source": [
    "\"\"\"Conversor de unidades de distancia\"\"\"\n",
    "\n",
    "def Conversor_Km_m (): #defino la función\n",
    "    print (\"CONVERSOR DE KILOMETROS A METROS\")  #imprimo en pantalla\n",
    "    km = float(input(\"Inserte el número de kilometros: \")) # pido el valor al usuario\n",
    "    m = km * 1000  # hago la conversión\n",
    "    print (km,\"kilometros son\",m,'metros') #imprimo en pantalla\n",
    "    \n",
    "def Conversor_m_mm ():\n",
    "    print (\"CONVERSOR DE METROS A MILIMETROS\")\n",
    "    m = float(input(\"Inserte el número de metros: \"))\n",
    "    mm = m * 1000\n",
    "    print (m,\"metros son\",mm,'milimetros')\n",
    "    \n",
    "def Conversor_mm_m ():\n",
    "    print (\"CONVERSOR DE MILIMETROS A METROS\")\n",
    "    mm = float(input(\"Inserte el número de milimetros: \"))\n",
    "    m = mm / 1000\n",
    "    print (m,\" milimetros son\",mm,'metros')\n",
    "    "
   ]
  },
  {
   "cell_type": "code",
   "execution_count": 2,
   "metadata": {},
   "outputs": [
    {
     "name": "stdout",
     "output_type": "stream",
     "text": [
      "CONVERSOR DE METROS A MILIMETROS\n",
      "Inserte el número de metros: 7\n",
      "7.0 metros son 7000.0 milimetros\n"
     ]
    }
   ],
   "source": [
    "Conversor_m_mm()"
   ]
  },
  {
   "cell_type": "markdown",
   "metadata": {},
   "source": [
    "### 2. Universo de Ptolomeo\n",
    "Las esferas celestes eran entidades fundamentales de los modelos cosmológicos de Ptolomeo en las cuales las estrellas eran fijas y los planetas se movían en epiciclos.\n",
    "\n",
    "<img src=\"Imagenes/Ptolomeo.png\" width=60%>\n",
    "\n",
    "Dados los lados **a** y **b** del triangulo calcule el área superficial de la esfera que el usuario indique.(Observe la figura)\n",
    "\n",
    "El radio de la segunda esfera $R_2$, es $R_2 = R_1 + 1$ donde $R_1$ es el radio de la primera esfera, esto es $R_n = R_{n-1} + 1$, con $n = 1,2,...,8$ donde indica el número de la esfera.\n",
    "<img src=\"Imagenes/ejercicio_2.png\" width=60%>"
   ]
  },
  {
   "cell_type": "code",
   "execution_count": 1,
   "metadata": {},
   "outputs": [],
   "source": [
    "\"\"\"Universo de Ptolomeo\"\"\"\n",
    "def superficie (radio_1, esfera):  # Defino la función\n",
    "    pi = 3.1416 # defino el valor de pi\n",
    "    radio = radio_1 + (esfera-1) # defino el radio \n",
    "    return 4 * pi * radio ** 2  # retorno el valor producto de la operación\n",
    "\n",
    "def volumen (radio_1, esfera):\n",
    "    pi = 3.1416\n",
    "    radio = radio_1 + (esfera-1)\n",
    "    return (4 / 3) * pi * radio ** 3\n",
    "\n",
    "def CalcularEsferas ():\n",
    "    print(\"CALCULADOR DE ESFERAS\")\n",
    "    cateto_a = float(input(\"Inserte el valor de cateto a: \"))\n",
    "    cateto_b = float(input(\"Inserte el valor de cateto b: \"))\n",
    "    \n",
    "    Radio_Esfera1 = ((cateto_a) ** 2 + (cateto_b) ** 2) ** (1 / 2)\n",
    "    \n",
    "    print (\" \")\n",
    "    \n",
    "    print (\"AREA SUPERFICIAL\")\n",
    "    print (\"El area superficial de la esfera 1 es\", superficie(Radio_Esfera1,1))\n",
    "    print (\"El area superficial de la esfera 2 es\", superficie(Radio_Esfera1,2))\n",
    "    print (\"El area superficial de la esfera 3 es\", superficie(Radio_Esfera1,3))\n",
    "    print (\"El area superficial de la esfera 4 es\", superficie(Radio_Esfera1,4))\n",
    "    print (\"El area superficial de la esfera 5 es\", superficie(Radio_Esfera1,5))\n",
    "    print (\"El area superficial de la esfera 6 es\", superficie(Radio_Esfera1,6))\n",
    "    print (\"El area superficial de la esfera 7 es\", superficie(Radio_Esfera1,7))\n",
    "    print (\"El area superficial de la esfera 8 es\", superficie(Radio_Esfera1,8))\n",
    "    \n",
    "    print (\" \")\n",
    "    print (\"VOLUMEN\")\n",
    "    print (\"El volumen de la esfera 1 es\", volumen(Radio_Esfera1,1))\n",
    "    print (\"El volumen de la esfera 2 es\", volumen(Radio_Esfera1,2))\n",
    "    print (\"El volumen de la esfera 3 es\", volumen(Radio_Esfera1,3))\n",
    "    print (\"El volumen de la esfera 4 es\", volumen(Radio_Esfera1,4))\n",
    "    print (\"El volumen de la esfera 5 es\", volumen(Radio_Esfera1,5))\n",
    "    print (\"El volumen de la esfera 6 es\", volumen(Radio_Esfera1,6))\n",
    "    print (\"El volumen de la esfera 7 es\", volumen(Radio_Esfera1,7))\n",
    "    print (\"El volumen de la esfera 8 es\", volumen(Radio_Esfera1,8))"
   ]
  },
  {
   "cell_type": "code",
   "execution_count": 2,
   "metadata": {
    "scrolled": true
   },
   "outputs": [
    {
     "name": "stdout",
     "output_type": "stream",
     "text": [
      "CALCULADOR DE ESFERAS\n",
      "Inserte el valor de cateto a: 1\n",
      "Inserte el valor de cateto b: 1\n",
      " \n",
      "AREA SUPERFICIAL\n",
      "El area superficial de la esfera 1 es 25.132800000000007\n",
      "El area superficial de la esfera 2 es 73.24234662041052\n",
      "El area superficial de la esfera 3 es 146.48469324082103\n",
      "El area superficial de la esfera 4 es 244.85983986123153\n",
      "El area superficial de la esfera 5 es 368.3677864816421\n",
      "El area superficial de la esfera 6 es 517.0085331020526\n",
      "El area superficial de la esfera 7 es 690.7820797224631\n",
      "El area superficial de la esfera 8 es 889.6884263428739\n",
      " \n",
      "VOLUMEN\n",
      "El volumen de la esfera 1 es 11.847715540136843\n",
      "El volumen de la esfera 2 es 58.94088885034209\n",
      "El volumen de la esfera 3 es 166.71000878095785\n",
      "El volumen de la esfera 4 es 360.28787533198414\n",
      "El volumen de la esfera 5 es 664.807288503421\n",
      "El volumen de la esfera 6 es 1105.401048295268\n",
      "El volumen de la esfera 7 es 1707.201954707526\n",
      "El volumen de la esfera 8 es 2495.342807740195\n"
     ]
    }
   ],
   "source": [
    "CalcularEsferas()"
   ]
  },
  {
   "cell_type": "markdown",
   "metadata": {},
   "source": []
  },
  {
   "cell_type": "code",
   "execution_count": null,
   "metadata": {},
   "outputs": [],
   "source": []
  }
 ],
 "metadata": {
  "kernelspec": {
   "display_name": "Python 3",
   "language": "python",
   "name": "python3"
  },
  "language_info": {
   "codemirror_mode": {
    "name": "ipython",
    "version": 3
   },
   "file_extension": ".py",
   "mimetype": "text/x-python",
   "name": "python",
   "nbconvert_exporter": "python",
   "pygments_lexer": "ipython3",
   "version": "3.7.3"
  }
 },
 "nbformat": 4,
 "nbformat_minor": 2
}
