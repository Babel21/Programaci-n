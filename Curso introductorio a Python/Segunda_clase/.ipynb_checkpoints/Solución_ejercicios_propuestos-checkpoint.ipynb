{
 "cells": [
  {
   "cell_type": "markdown",
   "metadata": {},
   "source": [
    "# Ejercicio Segunda clase\n",
    "Uso de condicionales y bucles"
   ]
  },
  {
   "cell_type": "markdown",
   "metadata": {},
   "source": [
    "### 1. \n",
    "Escriba un programa que permita hacer conversión de unidades de distancia, donde puede indicar que unidad tiene el dato de entrada y a que unidad quiero que lo convierta. (minimo 3 posibilidades)."
   ]
  },
  {
   "cell_type": "code",
   "execution_count": 1,
   "metadata": {},
   "outputs": [],
   "source": [
    "\"\"\"Conversor de unidades de distancia\"\"\"\n",
    "\n",
    "def conversion (unidad_entrada,valor_entrada,unidad_salida):\n",
    "    if (unidad_entrada == \"km\" or unidad_entrada == \"Km\")  and (unidad_salida == \"m\" or unidad_salida == \"M\"):\n",
    "        resultado = valor_entrada * 1000\n",
    "     \n",
    "    elif (unidad_entrada == \"km\" or unidad_entrada == \"Km\")  and (unidad_salida == \"Cm\" or unidad_salida == \"cm\"):\n",
    "        resultado = valor_entrada * 100000\n",
    "        \n",
    "    elif (unidad_entrada == \"m\" or unidad_entrada == \"M\")  and (unidad_salida == \"Km\" or unidad_salida == \"km\"):\n",
    "        resultado = valor_entrada / 1000\n",
    "    \n",
    "    return resultado\n",
    "    \n",
    "\n",
    "def ConversorUnidadesDistancia ():\n",
    "    print(\"CONVERSOR DE UNIDADES\")\n",
    "    print(\"Las unidades deben estar en el sistema internacional\")\n",
    "    \n",
    "    unidad_entrada = str(input(\"Ingrese la unidad de entrada: \"))\n",
    "    valor_entrada = float(input(\"ingrese el valor de entrada: \"))\n",
    "    unidad_salida = str(input(\"ingrese la unidad de salida: \"))\n",
    "    \n",
    "    resultado = conversion(unidad_entrada,valor_entrada,unidad_salida)\n",
    "    \n",
    "    print(valor_entrada, unidad_entrada, \"son\", resultado, unidad_salida)"
   ]
  },
  {
   "cell_type": "code",
   "execution_count": 2,
   "metadata": {},
   "outputs": [
    {
     "name": "stdout",
     "output_type": "stream",
     "text": [
      "CONVERSOR DE UNIDADES\n",
      "Las unidades deben estar en el sistema internacional\n",
      "Ingrese la unidad de entrada: km\n",
      "ingrese el valor de entrada: 1\n",
      "ingrese la unidad de salida: m\n",
      "1.0 km son 1000.0 m\n"
     ]
    }
   ],
   "source": [
    "ConversorUnidadesDistancia()"
   ]
  },
  {
   "cell_type": "markdown",
   "metadata": {},
   "source": [
    "#### 2. Universo de Ptolomeo\n",
    "Las esferas celestes eran entidades fundamentales de los modelos cosmológicos de Ptolomeo en las cuales las estrellas eran fijas y los planetas se movían en epiciclos.\n",
    "\n",
    "<img src=\"Imagenes/Ptolomeo.png\" width=60%>\n",
    "\n",
    "Dados los lados **a** y **b** del triangulo calcule el área superficial de la esfera que el usuario indique.(Observe la figura)\n",
    "\n",
    "El radio de la segunda esfera $R_2$, es $R_2 = R_1 + 1$ donde $R_1$ es el radio de la primera esfera, esto es $R_n = R_{n-1} + 1$, con $n = 1,2,...,8$ donde indica el número de la esfera.\n",
    "<img src=\"Imagenes/ejercicio_2.png\" width=60%>"
   ]
  },
  {
   "cell_type": "code",
   "execution_count": 5,
   "metadata": {},
   "outputs": [],
   "source": [
    "\"\"\"Universo de Ptolomeo\"\"\"\n",
    "def superficie (radio_1, esfera):  # Defino la función\n",
    "    pi = 3.1416 # defino el valor de pi\n",
    "    radio = radio_1 + (esfera-1) # defino el radio \n",
    "    return 4 * pi * radio ** 2  # retorno el valor producto de la operación\n",
    "\n",
    "def volumen (radio_1, esfera):\n",
    "    pi = 3.1416\n",
    "    radio = radio_1 + (esfera-1)\n",
    "    return (4 / 3) * pi * radio ** 3\n",
    "\n",
    "def CalcularEsferas ():\n",
    "    print(\"CALCULADOR DE ESFERAS\")\n",
    "    cateto_a = float(input(\"Inserte el valor de cateto a: \"))\n",
    "    cateto_b = float(input(\"Inserte el valor de cateto b: \"))\n",
    "    \n",
    "    Radio_Esfera1 = ((cateto_a) ** 2 + (cateto_b) ** 2) ** (1 / 2)\n",
    "    \n",
    "    print(\" \")\n",
    "    print (\"AREA SUPERFICIAL\")\n",
    "    for i in range(8):\n",
    "        print (\"El area superficial de la esfera \", i+1, \"es\", superficie(Radio_Esfera1,i+1))\n",
    "    \n",
    "    print(\" \")\n",
    "    print (\"VOLUMEN\")\n",
    "    for i in range(8):\n",
    "        print (\"El volumen de la esfera \", i+1, \"es\", volumen(Radio_Esfera1,i+1))\n",
    "\n",
    "    "
   ]
  },
  {
   "cell_type": "code",
   "execution_count": 6,
   "metadata": {},
   "outputs": [
    {
     "name": "stdout",
     "output_type": "stream",
     "text": [
      "CALCULADOR DE ESFERAS\n",
      "Inserte el valor de cateto a: 1\n",
      "Inserte el valor de cateto b: 1\n",
      " \n",
      "AREA SUPERFICIAL\n",
      "El area superficial de la esfera  1 es 25.132800000000007\n",
      "El area superficial de la esfera  2 es 73.24234662041052\n",
      "El area superficial de la esfera  3 es 146.48469324082103\n",
      "El area superficial de la esfera  4 es 244.85983986123153\n",
      "El area superficial de la esfera  5 es 368.3677864816421\n",
      "El area superficial de la esfera  6 es 517.0085331020526\n",
      "El area superficial de la esfera  7 es 690.7820797224631\n",
      "El area superficial de la esfera  8 es 889.6884263428739\n",
      " \n",
      "VOLUMEN\n",
      "El volumen de la esfera  1 es 11.847715540136843\n",
      "El volumen de la esfera  2 es 58.94088885034209\n",
      "El volumen de la esfera  3 es 166.71000878095785\n",
      "El volumen de la esfera  4 es 360.28787533198414\n",
      "El volumen de la esfera  5 es 664.807288503421\n",
      "El volumen de la esfera  6 es 1105.401048295268\n",
      "El volumen de la esfera  7 es 1707.201954707526\n",
      "El volumen de la esfera  8 es 2495.342807740195\n"
     ]
    }
   ],
   "source": [
    "CalcularEsferas()"
   ]
  },
  {
   "cell_type": "markdown",
   "metadata": {},
   "source": [
    "### 3. Adivina quién\n",
    "Defina cinco carcteristicas de una persona, luego plantee un algoritmo que permita ingresar posibles valores para estas caracteristicas hasta poder identificar a la persona inicialmente definida. "
   ]
  },
  {
   "cell_type": "code",
   "execution_count": null,
   "metadata": {},
   "outputs": [],
   "source": [
    "Cabello = \"Corto\"\n",
    "ColorCabello = \"Castaño\"\n",
    "Altura = \"Alto\"\n",
    "ColorOjos = \"Azul\"\n",
    "ColorPiel = \"Negro\"\n",
    "\n",
    "def Adivina ():\n",
    "\n",
    "    cabello = str(input(\"Ingrese un posible valor para el cabello: \"))\n",
    "    while cabello !=  Cabello:\n",
    "        cabello = str(input(\"Ingrese otro un posible valor para el cabello: \"))\n",
    "    \n",
    "    print (\"Felicidades, el cabello es \", cabello)\n",
    "    print(\" \")\n",
    "    \n",
    "    color_cabello = str(input(\"Ingrese un posible valor para el color de cabello: \"))\n",
    "    while color_cabello !=  ColorCabello:\n",
    "        color_cabello = str(input(\"Ingrese otro un posible valor para el color de cabello: \"))\n",
    "    \n",
    "    print (\"Felicidades, el color de cabello es \", color_cabello)\n",
    "    print(\" \")\n",
    "    \n",
    "    altura = str(input(\"Ingrese un posible valor para la altura: \"))\n",
    "    while altura !=  Altura:\n",
    "        altura = str(input(\"Ingrese otro un posible valor para la altura: \"))\n",
    "    \n",
    "    print (\"Felicidades, la altura es \", altura)\n",
    "    print(\" \")\n",
    "    \n",
    "    color_ojos = str(input(\"Ingrese un posible valor para el color de los ojos: \"))\n",
    "    while color_ojos !=  ColorOjos:\n",
    "        acolor_ojos = str(input(\"Ingrese otro un posible valor para el color de los ojos: \"))\n",
    "    \n",
    "    print (\"Felicidades, el color de los ojos es \", color_ojos)\n",
    "    print(\" \")\n",
    "    \n",
    "    color_piel = str(input(\"Ingrese un posible valor para el color de la piel: \"))\n",
    "    while color_piel !=  ColorPiel :\n",
    "        color_piel = str(input(\"Ingrese otro un posible valor para el color de la piel: \"))\n",
    "    \n",
    "    print (\"Felicidades, el color de la piel es\", color_piel)\n",
    "    print(\" \")\n"
   ]
  },
  {
   "cell_type": "code",
   "execution_count": null,
   "metadata": {},
   "outputs": [
    {
     "name": "stdout",
     "output_type": "stream",
     "text": [
      "Ingrese un posible valor para el cabello: Corto\n",
      "Felicidades, el cabello es  Corto\n",
      " \n",
      "Ingrese un posible valor para el color de cabello: Castaño\n",
      "Felicidades, el color de cabello es  Castaño\n",
      " \n",
      "Ingrese un posible valor para la altura: Bajo\n",
      "Ingrese otr un posible valor para la altura: Alto\n",
      "Felicidades, la altura es  Alto\n",
      " \n",
      "Ingrese un posible valor para el color de los ojos: Verde\n",
      "Ingrese otr un posible valor para el color de los ojos: Azul\n"
     ]
    }
   ],
   "source": [
    "Adivina()"
   ]
  },
  {
   "cell_type": "code",
   "execution_count": null,
   "metadata": {},
   "outputs": [],
   "source": []
  }
 ],
 "metadata": {
  "kernelspec": {
   "display_name": "Python 3",
   "language": "python",
   "name": "python3"
  },
  "language_info": {
   "codemirror_mode": {
    "name": "ipython",
    "version": 3
   },
   "file_extension": ".py",
   "mimetype": "text/x-python",
   "name": "python",
   "nbconvert_exporter": "python",
   "pygments_lexer": "ipython3",
   "version": "3.7.3"
  }
 },
 "nbformat": 4,
 "nbformat_minor": 2
}
