{
 "cells": [
  {
   "cell_type": "markdown",
   "metadata": {},
   "source": [
    "# Ejercicio primera clase\n",
    "Uso de funciones, vaeiables y operadores"
   ]
  },
  {
   "cell_type": "markdown",
   "metadata": {},
   "source": [
    "### 1. \n",
    "Escriba un programa que permita hacer conversión de unidades de distancia, donde puede indicar que unidad tiene el dato de entrada y a que unidad quiero que lo convierta. (minimo 3 posibilidades)."
   ]
  },
  {
   "cell_type": "code",
   "execution_count": null,
   "metadata": {},
   "outputs": [],
   "source": []
  },
  {
   "cell_type": "markdown",
   "metadata": {},
   "source": [
    "### 2. Universo de Ptolomeo\n",
    "Las esferas celestes eran entidades fundamentales de los modelos cosmológicos de Ptolomeo en las cuales las estrellas eran fijas y los planetas se movían en epiciclos.\n",
    "\n",
    "<img src=\"Imagenes/Ptolomeo.png\" width=60%>\n",
    "\n",
    "Dados los lados **a** y **b** del triangulo calcule el área superficial de la esfera que el usuario indique.(Observe la figura)\n",
    "\n",
    "El radio de la segunda esfera $R_2$, es $R_2 = R_1 + 1$ donde $R_1$ es el radio de la primera esfera, esto es $R_n = R_{n-1} + 1$, con $n = 1,2,...,8$ donde indica el número de la esfera.\n",
    "<img src=\"Imagenes/ejercicio_2.png\" width=60%>"
   ]
  },
  {
   "cell_type": "code",
   "execution_count": null,
   "metadata": {},
   "outputs": [],
   "source": []
  },
  {
   "cell_type": "markdown",
   "metadata": {},
   "source": [
    "### 3. Adivina quién\n",
    "Defina cinco carcteristicas de una persona, luego plantee un algoritmo que permita ingresar posibles valores para estas caracteristicas hasta poder identificar a la persona inicialmente definida. "
   ]
  },
  {
   "cell_type": "code",
   "execution_count": null,
   "metadata": {},
   "outputs": [],
   "source": []
  }
 ],
 "metadata": {
  "kernelspec": {
   "display_name": "Python 3",
   "language": "python",
   "name": "python3"
  },
  "language_info": {
   "codemirror_mode": {
    "name": "ipython",
    "version": 3
   },
   "file_extension": ".py",
   "mimetype": "text/x-python",
   "name": "python",
   "nbconvert_exporter": "python",
   "pygments_lexer": "ipython3",
   "version": "3.7.3"
  }
 },
 "nbformat": 4,
 "nbformat_minor": 2
}
