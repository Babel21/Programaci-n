{
 "cells": [
  {
   "cell_type": "markdown",
   "metadata": {},
   "source": [
    "<h1><center>\n",
    "Curso introductorio a Python (Tercera clase)\n",
    "</center></h1>\n",
    "\n",
    "<img src=\"Imagenes/babel.jpeg\" width=20%>\n"
   ]
  },
  {
   "cell_type": "markdown",
   "metadata": {},
   "source": [
    "## Estructuras de datos\n",
    "### Listas\n",
    "* Son una secuencia de elementos.\n",
    "* Se pueden asignar a una variable, lo que permite agrupar elementos.\n",
    "\n",
    "##### Se crean\n",
    "* Mediante el uso de corchetes [].\n",
    "* Con la **Keyword** *list*\n"
   ]
  },
  {
   "cell_type": "code",
   "execution_count": 1,
   "metadata": {},
   "outputs": [],
   "source": [
    "list_1 = [1,2,3,4,5] #lista de números\n",
    "list_2 = [\"a\",\"b\",\"c\"]# lista de caracteres\n",
    "list_3 = [\"hola\",\"gente\",5] # lista de caracteres y números\n",
    "list_4 = list() #crear una lista vacia"
   ]
  },
  {
   "cell_type": "markdown",
   "metadata": {},
   "source": [
    "##### Acceder a los elementos\n",
    "Se accede mediante indices, los indices inician desde cero"
   ]
  },
  {
   "cell_type": "code",
   "execution_count": 2,
   "metadata": {},
   "outputs": [
    {
     "data": {
      "text/plain": [
       "1"
      ]
     },
     "execution_count": 2,
     "metadata": {},
     "output_type": "execute_result"
    }
   ],
   "source": [
    "list_1[0] #acceder a un elemento de la lista"
   ]
  },
  {
   "cell_type": "markdown",
   "metadata": {},
   "source": [
    "#### Algunos metodos \n",
    "* Append () --> agregar elementos a la lista"
   ]
  },
  {
   "cell_type": "code",
   "execution_count": 3,
   "metadata": {},
   "outputs": [
    {
     "name": "stdout",
     "output_type": "stream",
     "text": [
      "['Carlos']\n",
      "['Carlos', 'Andres']\n"
     ]
    }
   ],
   "source": [
    "list_4.append(\"Carlos\") #agregar el elemento a la lista vacia\n",
    "print (list_4)  #Mostrar la lista\n",
    "list_4.append(\"Andres\")\n",
    "print (list_4)"
   ]
  },
  {
   "cell_type": "markdown",
   "metadata": {},
   "source": [
    "* Remove() ---> remueve un elemento de la lista"
   ]
  },
  {
   "cell_type": "code",
   "execution_count": 4,
   "metadata": {},
   "outputs": [
    {
     "name": "stdout",
     "output_type": "stream",
     "text": [
      "[1, 2, 3, 4, 5]\n",
      "[1, 2, 4, 5]\n"
     ]
    }
   ],
   "source": [
    "print(list_1)\n",
    "list_1.remove(3)\n",
    "print(list_1)"
   ]
  },
  {
   "cell_type": "markdown",
   "metadata": {},
   "source": [
    "* index () ---> Devuelve el indice el valor que le pasemos por parametro"
   ]
  },
  {
   "cell_type": "code",
   "execution_count": 5,
   "metadata": {},
   "outputs": [
    {
     "data": {
      "text/plain": [
       "3"
      ]
     },
     "execution_count": 5,
     "metadata": {},
     "output_type": "execute_result"
    }
   ],
   "source": [
    "list_1.index(5)  # Indice el elemento *5*"
   ]
  },
  {
   "cell_type": "markdown",
   "metadata": {},
   "source": [
    "* Count () --> Permite saber cuantas veces se repite un elemento en la lista"
   ]
  },
  {
   "cell_type": "code",
   "execution_count": 6,
   "metadata": {},
   "outputs": [
    {
     "name": "stdout",
     "output_type": "stream",
     "text": [
      "[1, 2, 4, 5, 5]\n"
     ]
    },
    {
     "data": {
      "text/plain": [
       "2"
      ]
     },
     "execution_count": 6,
     "metadata": {},
     "output_type": "execute_result"
    }
   ],
   "source": [
    "list_1.append(5) #agregar otro cinco a la lista\n",
    "print(list_1)\n",
    "list_1.count(5)"
   ]
  },
  {
   "cell_type": "markdown",
   "metadata": {},
   "source": [
    "* Reverse () --> Invertir los elementos de la lista"
   ]
  },
  {
   "cell_type": "code",
   "execution_count": 7,
   "metadata": {},
   "outputs": [
    {
     "name": "stdout",
     "output_type": "stream",
     "text": [
      "[5, 5, 4, 2, 1]\n"
     ]
    }
   ],
   "source": [
    "list_1.reverse()\n",
    "print (list_1)"
   ]
  },
  {
   "cell_type": "code",
   "execution_count": 8,
   "metadata": {},
   "outputs": [],
   "source": [
    "\"\"\"Temperatura promedio\"\"\"\n",
    "\n",
    "def Temperatura_promedio ():\n",
    "    print(\"TEMPERATURA PROMEDIO\")\n",
    "    print(\" \")\n",
    "    \n",
    "    T_promedio = list()\n",
    "    dias = int(input(\"Ingrese el número de días de los cuales tiene la temperatura: \"))\n",
    "    for i in range(dias):\n",
    "        T_promedio.append(float(input(\"Ingrese la temperatura:\")))\n",
    "    \n",
    "    print (\"La temperatura promedio es:\", sum(T_promedio)/len(T_promedio))"
   ]
  },
  {
   "cell_type": "code",
   "execution_count": 9,
   "metadata": {},
   "outputs": [
    {
     "name": "stdout",
     "output_type": "stream",
     "text": [
      "TEMPERATURA PROMEDIO\n",
      " \n",
      "Ingrese el número de días de los cuales tiene la temperatura: 2\n",
      "Ingrese la temperatura:1\n",
      "Ingrese la temperatura:1\n",
      "La temperatura promedio es: 1.0\n"
     ]
    }
   ],
   "source": [
    "Temperatura_promedio()"
   ]
  },
  {
   "cell_type": "markdown",
   "metadata": {},
   "source": [
    "##### Operaciones \n",
    "* + --> agrega los elementos de la una lista al final de los de la otra\n",
    "* * --> Escribe los elementos de la lista el número de veces que se le indique"
   ]
  },
  {
   "cell_type": "code",
   "execution_count": 10,
   "metadata": {},
   "outputs": [
    {
     "name": "stdout",
     "output_type": "stream",
     "text": [
      "[5, 5, 4, 2, 1, 'a', 'b', 'c']\n",
      "[5, 5, 4, 2, 1, 5, 5, 4, 2, 1, 5, 5, 4, 2, 1]\n"
     ]
    }
   ],
   "source": [
    "print (list_1 + list_2)\n",
    "print (list_1 * 3)"
   ]
  },
  {
   "cell_type": "markdown",
   "metadata": {},
   "source": [
    "##### Slices\n",
    "Rebanar las listas, acceder a determinado rango de elementos de la lista"
   ]
  },
  {
   "cell_type": "code",
   "execution_count": 11,
   "metadata": {},
   "outputs": [
    {
     "name": "stdout",
     "output_type": "stream",
     "text": [
      "[5, 5, 4, 2, 1]\n",
      "[5, 5]\n",
      "[4, 2, 1]\n",
      "[4, 2]\n"
     ]
    }
   ],
   "source": [
    "print(list_1)\n",
    "\n",
    "print (list_1[:2]) #desde el inicio de la lista hasta el segundo elemento\n",
    "print (list_1[2:]) #desde el tercer elementos hasta el final\n",
    "print (list_1[2:4]) #desde el tercer elementos hasta el cuarto"
   ]
  },
  {
   "cell_type": "markdown",
   "metadata": {},
   "source": [
    "### Tuplas\n",
    "Secuencia de elementos similar a una lista, con la particularidad de ser **inmutable**\n",
    "\n",
    "##### Se crean\n",
    "Separando los valores por comas, se acostumbra a encapsolarlos entre parentesis (). "
   ]
  },
  {
   "cell_type": "code",
   "execution_count": 12,
   "metadata": {},
   "outputs": [
    {
     "name": "stdout",
     "output_type": "stream",
     "text": [
      "(2.3, (2020, 'pandemia', 'carlos'))\n"
     ]
    }
   ],
   "source": [
    "tupla_1 = (2020, \"pandemia\", \"carlos\") #recive varios tipos de elementos\n",
    "tupla_2 = (2.3, tupla_1) # Recive tuplas \n",
    "print (tupla_2)"
   ]
  },
  {
   "cell_type": "code",
   "execution_count": 13,
   "metadata": {},
   "outputs": [
    {
     "name": "stdout",
     "output_type": "stream",
     "text": [
      "((2.3, (2020, 'pandemia', 'carlos')), [1, 2, 3])\n"
     ]
    }
   ],
   "source": [
    "tupla_3 = (tupla_2,[1,2,3]) #recive listas\n",
    "print(tupla_3)"
   ]
  },
  {
   "cell_type": "markdown",
   "metadata": {},
   "source": [
    "##### Acceder \n",
    "Se accede como las listas, mediante indices"
   ]
  },
  {
   "cell_type": "code",
   "execution_count": 14,
   "metadata": {},
   "outputs": [
    {
     "name": "stdout",
     "output_type": "stream",
     "text": [
      "2020     [1, 2, 3]\n"
     ]
    }
   ],
   "source": [
    "print(tupla_1[0],\"   \",tupla_3[-1])"
   ]
  },
  {
   "cell_type": "code",
   "execution_count": 15,
   "metadata": {
    "scrolled": true
   },
   "outputs": [
    {
     "ename": "TypeError",
     "evalue": "'tuple' object does not support item assignment",
     "output_type": "error",
     "traceback": [
      "\u001b[1;31m---------------------------------------------------------------------------\u001b[0m",
      "\u001b[1;31mTypeError\u001b[0m                                 Traceback (most recent call last)",
      "\u001b[1;32m<ipython-input-15-36715c8ae4f7>\u001b[0m in \u001b[0;36m<module>\u001b[1;34m\u001b[0m\n\u001b[1;32m----> 1\u001b[1;33m \u001b[0mtupla_1\u001b[0m\u001b[1;33m[\u001b[0m\u001b[1;36m0\u001b[0m\u001b[1;33m]\u001b[0m \u001b[1;33m=\u001b[0m \u001b[1;36m1\u001b[0m  \u001b[1;31m# es inmutable, no permite modificar un valor\u001b[0m\u001b[1;33m\u001b[0m\u001b[1;33m\u001b[0m\u001b[0m\n\u001b[0m",
      "\u001b[1;31mTypeError\u001b[0m: 'tuple' object does not support item assignment"
     ]
    }
   ],
   "source": [
    "tupla_1[0] = 1  # es inmutable, no permite modificar un valor"
   ]
  },
  {
   "cell_type": "code",
   "execution_count": null,
   "metadata": {},
   "outputs": [],
   "source": []
  },
  {
   "cell_type": "markdown",
   "metadata": {},
   "source": [
    "### Sets\n",
    "Son muy similares a las listas, excepto que no permiten elementos repetidos\n",
    "\n",
    "##### Se creean\n",
    "Se crean mediante el uso de llaves {}"
   ]
  },
  {
   "cell_type": "code",
   "execution_count": 16,
   "metadata": {},
   "outputs": [],
   "source": [
    "set_1 = {1,2,3}\n",
    "set_2 = {3,4,5}"
   ]
  },
  {
   "cell_type": "markdown",
   "metadata": {},
   "source": [
    "#### Operaciones\n",
    "* Union (|) --> Elementos de los dos conjuntos\n",
    "* Intesección (&) --> Elementos compartidos entre los dos conjuntos\n",
    "* Diferencia (-)--> Elementos incluidos en el un conjuntos pero no en el otro\n",
    "* Diferencia simetrica (^) --> Elementos que pertenecen a un conjunto o al otro, pero no a ambos"
   ]
  },
  {
   "cell_type": "code",
   "execution_count": 17,
   "metadata": {},
   "outputs": [
    {
     "name": "stdout",
     "output_type": "stream",
     "text": [
      "{1, 2, 3, 4, 5}\n",
      "{3}\n",
      "{1, 2} {4, 5}\n",
      "{1, 2, 4, 5}\n"
     ]
    }
   ],
   "source": [
    "#Union\n",
    "print (set_1 | set_2)\n",
    "print (set_1 & set_2)\n",
    "print (set_1 - set_2, set_2 - set_1)\n",
    "print (set_1 ^ set_2)"
   ]
  },
  {
   "cell_type": "code",
   "execution_count": 18,
   "metadata": {},
   "outputs": [
    {
     "name": "stdout",
     "output_type": "stream",
     "text": [
      "True\n",
      "False\n"
     ]
    }
   ],
   "source": [
    "# Comprobar si un elemento esta en el set\n",
    "print(2 in set_1)\n",
    "print(2 in set_2)"
   ]
  },
  {
   "cell_type": "markdown",
   "metadata": {},
   "source": [
    "### Diccionarios\n",
    "Mapa de llaves a valores, los valores pueden ser cualquier tipo de dato (listas, tuplas, conjuntos, enteros...)\n",
    "\n",
    "##### Se crean\n",
    "* Se crean mediante llaves {}\n",
    "* Se una la keyword **dic**"
   ]
  },
  {
   "cell_type": "code",
   "execution_count": 19,
   "metadata": {},
   "outputs": [],
   "source": [
    "dic_1 = {'nombres':['Carlos','Andres','Jhon','Majo','Ana']}\n",
    "dic_1[\"Roles\"] = [\"Admin\",\"Moderador\", \"Moderador\", \"Coordinador\", \"Coordinador\"]"
   ]
  },
  {
   "cell_type": "markdown",
   "metadata": {},
   "source": [
    "##### Métodos\n",
    "* Get () ---> Recibe como parámetro una clave, devuelve el valor de la clave"
   ]
  },
  {
   "cell_type": "code",
   "execution_count": 20,
   "metadata": {},
   "outputs": [
    {
     "data": {
      "text/plain": [
       "['Carlos', 'Andres', 'Jhon', 'Majo', 'Ana']"
      ]
     },
     "execution_count": 20,
     "metadata": {},
     "output_type": "execute_result"
    }
   ],
   "source": [
    "dic_1.get('nombres')"
   ]
  },
  {
   "cell_type": "markdown",
   "metadata": {},
   "source": [
    "* Items () ---> Devuelve una lista de tuplas, cada tupla se compone de dos elementos: el primero será la clave y el segundo, su valor."
   ]
  },
  {
   "cell_type": "code",
   "execution_count": 21,
   "metadata": {},
   "outputs": [
    {
     "data": {
      "text/plain": [
       "dict_items([('nombres', ['Carlos', 'Andres', 'Jhon', 'Majo', 'Ana']), ('Roles', ['Admin', 'Moderador', 'Moderador', 'Coordinador', 'Coordinador'])])"
      ]
     },
     "execution_count": 21,
     "metadata": {},
     "output_type": "execute_result"
    }
   ],
   "source": [
    "dic_1.items()"
   ]
  },
  {
   "cell_type": "markdown",
   "metadata": {},
   "source": [
    "* Keys () -- Devuelve una lista de elementos, los cuales serán las claves de nuestro diccionario."
   ]
  },
  {
   "cell_type": "code",
   "execution_count": 22,
   "metadata": {},
   "outputs": [
    {
     "name": "stdout",
     "output_type": "stream",
     "text": [
      "dict_keys(['nombres', 'Roles'])\n"
     ]
    }
   ],
   "source": [
    "print(dic_1.keys())"
   ]
  },
  {
   "cell_type": "markdown",
   "metadata": {},
   "source": [
    "* Values () -- Devuelve una lista de elementos, los cuales serán los valores de nuestro diccionario."
   ]
  },
  {
   "cell_type": "code",
   "execution_count": 23,
   "metadata": {},
   "outputs": [
    {
     "name": "stdout",
     "output_type": "stream",
     "text": [
      "dict_values([['Carlos', 'Andres', 'Jhon', 'Majo', 'Ana'], ['Admin', 'Moderador', 'Moderador', 'Coordinador', 'Coordinador']])\n"
     ]
    }
   ],
   "source": [
    "print(dic_1.values())"
   ]
  },
  {
   "cell_type": "code",
   "execution_count": 24,
   "metadata": {},
   "outputs": [],
   "source": [
    "import numpy as np # Extención para soportes y matrices"
   ]
  },
  {
   "cell_type": "markdown",
   "metadata": {},
   "source": [
    "#### Arreglos\n",
    "Permite trabajar con vectores y matrices\n",
    "\n",
    "##### Se crean"
   ]
  },
  {
   "cell_type": "code",
   "execution_count": 25,
   "metadata": {},
   "outputs": [],
   "source": [
    "array_1 = np.array([1,2,3])\n",
    "array_2 = np.array([[1,2,3],[4,5,6]]) \n",
    "array_3 = np.array([[1,2,3],[4,5,6],[2,3,4]]) "
   ]
  },
  {
   "cell_type": "code",
   "execution_count": 28,
   "metadata": {},
   "outputs": [
    {
     "name": "stdout",
     "output_type": "stream",
     "text": [
      "[1 2 3]\n",
      "[1, 2, 3]\n"
     ]
    }
   ],
   "source": [
    "print(array_1) \n",
    "\n",
    "# se puede convertir en una lista\n",
    "array_1_list = list(array_1)\n",
    "print(array_1_list) # Ahora es una lista"
   ]
  },
  {
   "cell_type": "markdown",
   "metadata": {},
   "source": [
    "##### Acceder\n",
    "Se accede mediante indices, en el caso de las matrices se especifica la fila y la columna"
   ]
  },
  {
   "cell_type": "code",
   "execution_count": 30,
   "metadata": {},
   "outputs": [
    {
     "name": "stdout",
     "output_type": "stream",
     "text": [
      "1\n"
     ]
    }
   ],
   "source": [
    "print(array_1[0]) #Accede a cada elemento del arreglo"
   ]
  },
  {
   "cell_type": "code",
   "execution_count": 35,
   "metadata": {},
   "outputs": [
    {
     "name": "stdout",
     "output_type": "stream",
     "text": [
      "[[1 2 3]\n",
      " [4 5 6]]\n",
      "6\n"
     ]
    }
   ],
   "source": [
    "print(array_2)\n",
    "print(array_2[1,2]) #Fila y columna, los indices inician desde cero"
   ]
  },
  {
   "cell_type": "markdown",
   "metadata": {},
   "source": [
    "##### Algunas otras cosas "
   ]
  },
  {
   "cell_type": "code",
   "execution_count": 36,
   "metadata": {},
   "outputs": [
    {
     "data": {
      "text/plain": [
       "array([4, 5, 6])"
      ]
     },
     "execution_count": 36,
     "metadata": {},
     "output_type": "execute_result"
    }
   ],
   "source": [
    "array_2[1] #Accede a una de las filas del arreglo"
   ]
  },
  {
   "cell_type": "code",
   "execution_count": 38,
   "metadata": {},
   "outputs": [
    {
     "data": {
      "text/plain": [
       "array([ 4, 10, 18])"
      ]
     },
     "execution_count": 38,
     "metadata": {},
     "output_type": "execute_result"
    }
   ],
   "source": [
    "array_2[0] * array_2[1]  #multiplicación de los elementos de dos arrays"
   ]
  },
  {
   "cell_type": "code",
   "execution_count": 42,
   "metadata": {},
   "outputs": [
    {
     "name": "stdout",
     "output_type": "stream",
     "text": [
      "[1 2 3]\n"
     ]
    },
    {
     "data": {
      "text/plain": [
       "array([3, 6, 9])"
      ]
     },
     "execution_count": 42,
     "metadata": {},
     "output_type": "execute_result"
    }
   ],
   "source": [
    "print(array_1)\n",
    "array_1 * 3 # multiplica el vector por un escalar"
   ]
  },
  {
   "cell_type": "code",
   "execution_count": 43,
   "metadata": {},
   "outputs": [
    {
     "name": "stdout",
     "output_type": "stream",
     "text": [
      "[[1 2 3]\n",
      " [4 5 6]\n",
      " [2 3 4]]\n"
     ]
    },
    {
     "data": {
      "text/plain": [
       "array([[ 2,  4,  6],\n",
       "       [ 8, 10, 12],\n",
       "       [ 4,  6,  8]])"
      ]
     },
     "execution_count": 43,
     "metadata": {},
     "output_type": "execute_result"
    }
   ],
   "source": [
    "print(array_3)\n",
    "array_3 * 2 #multiplica la matriz por el escalar"
   ]
  },
  {
   "cell_type": "code",
   "execution_count": 48,
   "metadata": {},
   "outputs": [
    {
     "data": {
      "text/plain": [
       "array([[ 1,  4,  9],\n",
       "       [16, 25, 36]])"
      ]
     },
     "execution_count": 48,
     "metadata": {},
     "output_type": "execute_result"
    }
   ],
   "source": [
    "array_2 * array_2 #no es multiplicación matricial, es elemento a elemento"
   ]
  },
  {
   "cell_type": "code",
   "execution_count": 57,
   "metadata": {},
   "outputs": [
    {
     "data": {
      "text/plain": [
       "array([[15, 21, 27],\n",
       "       [36, 51, 66]])"
      ]
     },
     "execution_count": 57,
     "metadata": {},
     "output_type": "execute_result"
    }
   ],
   "source": [
    "array_2.dot(array_3) #multiplicación de matrices (regla de multiplicacion de matrices)"
   ]
  },
  {
   "cell_type": "code",
   "execution_count": null,
   "metadata": {},
   "outputs": [],
   "source": [
    "\n"
   ]
  }
 ],
 "metadata": {
  "kernelspec": {
   "display_name": "Python 3",
   "language": "python",
   "name": "python3"
  },
  "language_info": {
   "codemirror_mode": {
    "name": "ipython",
    "version": 3
   },
   "file_extension": ".py",
   "mimetype": "text/x-python",
   "name": "python",
   "nbconvert_exporter": "python",
   "pygments_lexer": "ipython3",
   "version": "3.7.3"
  }
 },
 "nbformat": 4,
 "nbformat_minor": 2
}
